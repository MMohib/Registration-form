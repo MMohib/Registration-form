{
 "cells": [
  {
   "cell_type": "code",
   "execution_count": 1,
   "id": "32fbc7a8",
   "metadata": {},
   "outputs": [],
   "source": [
    "import tkinter as tk\n",
    "from tkinter import*\n",
    "from tkinter import ttk"
   ]
  },
  {
   "cell_type": "code",
   "execution_count": 11,
   "id": "8d0da230",
   "metadata": {
    "scrolled": true
   },
   "outputs": [],
   "source": [
    "\n",
    "root = Tk()\n",
    "root.geometry('500x500')\n",
    "root.title(\"Registration Form for Gaming ID\")\n",
    "\n",
    "\n",
    "name= Label(root, text=\"Full Name\",width=20)\n",
    "name.place(x=80,y=80)\n",
    "\n",
    "entry_name = Entry(root)\n",
    "entry_name.place(x=240,y=80)\n",
    "\n",
    "username= Label(root, text=\"Username\", width=20)\n",
    "username.place(x=80,y=130)\n",
    "\n",
    "entry_username= Entry(root)\n",
    "entry_username.place(x=240, y=130)\n",
    "\n",
    "\n",
    "mail= Label(root, text=\"Email\",width=20)\n",
    "mail.place(x=80,y=180)\n",
    "\n",
    "entry_mail = Entry(root)\n",
    "entry_mail.place(x=240,y=180)\n",
    "\n",
    "gender = Label(root, text=\"Gender\",width=20)\n",
    "gender.place(x=80,y=230)\n",
    "var = IntVar()\n",
    "\n",
    "Radiobutton(root, text=\"Male\", variable=var, value=1).place(x=230,y=230)\n",
    "Radiobutton(root, text=\"Female\", variable=var, value=2).place(x=290,y=230)\n",
    "\n",
    "Checkbutton(root, text=\"Agree\").place(x=230, y=330)\n",
    "Checkbutton(root, text=\"Disagree\").place(x=290, y=330)\n",
    "\n",
    "agreement= Label(root, text=\"User term and Agreement\", width=20)\n",
    "agreement.place(x=80, y=330)\n",
    "\n",
    "age= Label(root, text=\"Age:\",width=20)\n",
    "age.place(x=80,y=280)\n",
    "\n",
    "Ctry= tk.StringVar()\n",
    "continent= ttk.Combobox(root, width=20, textvariable=Ctry)\n",
    "continent['value']=[\"Norhern America\", \"Southern America\" , \"Asia\", \"Europe\", \"Africa\", \"Australia\", \"Antartica\"]\n",
    "continent.place(x=230, y=370)\n",
    "\n",
    "qwer= Label(root, text=\"Region\", width=20)\n",
    "qwer.place(x=80, y=370)\n",
    "\n",
    "entry_age = Entry(root)\n",
    "entry_age.place(x=240,y=280)\n",
    " \n",
    "response= Label(root, width= 20)\n",
    "response.place(x=180, y=450)\n",
    "    \n",
    "def printing():\n",
    "    response.configure(text=\"ID for game created\", font='bold')\n",
    "\n",
    "submit=Button(root, text='Submit',width=20,bg='blue',fg='white', command= printing).place(x=180,y=420)\n",
    "\n",
    "root.mainloop()\n"
   ]
  },
  {
   "cell_type": "code",
   "execution_count": null,
   "id": "c83662e4",
   "metadata": {},
   "outputs": [],
   "source": []
  }
 ],
 "metadata": {
  "kernelspec": {
   "display_name": "Python 3 (ipykernel)",
   "language": "python",
   "name": "python3"
  },
  "language_info": {
   "codemirror_mode": {
    "name": "ipython",
    "version": 3
   },
   "file_extension": ".py",
   "mimetype": "text/x-python",
   "name": "python",
   "nbconvert_exporter": "python",
   "pygments_lexer": "ipython3",
   "version": "3.8.7"
  }
 },
 "nbformat": 4,
 "nbformat_minor": 5
}
